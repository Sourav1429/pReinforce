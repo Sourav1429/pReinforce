{
  "nbformat": 4,
  "nbformat_minor": 0,
  "metadata": {
    "colab": {
      "name": "pReinforce.ipynb",
      "provenance": [],
      "collapsed_sections": [],
      "authorship_tag": "ABX9TyNtx5joT0mZSt31/sagdQzj",
      "include_colab_link": true
    },
    "kernelspec": {
      "name": "python3",
      "display_name": "Python 3"
    },
    "language_info": {
      "name": "python"
    }
  },
  "cells": [
    {
      "cell_type": "markdown",
      "metadata": {
        "id": "view-in-github",
        "colab_type": "text"
      },
      "source": [
        "<a href=\"https://colab.research.google.com/github/Sourav1429/pReinforce/blob/main/pReinforce.ipynb\" target=\"_parent\"><img src=\"https://colab.research.google.com/assets/colab-badge.svg\" alt=\"Open In Colab\"/></a>"
      ]
    },
    {
      "cell_type": "code",
      "execution_count": null,
      "metadata": {
        "id": "xWH4P84mmK2Z"
      },
      "outputs": [],
      "source": [
        "import numpy as np\n",
        "import matplotlib.pyplot as plt\n",
        "from tqdm import tqdm"
      ]
    },
    {
      "cell_type": "code",
      "source": [
        "def set_up_env_river_swim(nS=6,nA=2):\n",
        "  P=np.zeros((nA,nS,nS));\n",
        "  R=np.zeros((nA,nS,nS));\n",
        "  P[0,0,0]=1\n",
        "  for i in range(1,nS-1):\n",
        "    P[0,i,i-1]=1;\n",
        "    P[1,i,i-1]=0.1;\n",
        "    P[1,i,i]=0.6\n",
        "    P[1,i,i+1]=0.3\n",
        "  P[0,5,4],P[1,5,4],P[1,5,5]=1,0.1,0.9;\n",
        "  R[0,0,0]=5/1000.\n",
        "  R[1,5,4],R[1,5,5] = 1,1\n",
        "  P[1,0,0] = 0.3;P[1,0,1] = 0.7\n",
        "  s_start = 5\n",
        "  print(P)\n",
        "  print(R)\n",
        "  return P,R,s_start;"
      ],
      "metadata": {
        "id": "mWjtPh9Ombmm"
      },
      "execution_count": null,
      "outputs": []
    },
    {
      "cell_type": "code",
      "source": [
        "def softmax(rho):\n",
        "  exponent = np.exp(rho);\n",
        "  exponent = exponent/np.sum(exponent);\n",
        "  return exponent;"
      ],
      "metadata": {
        "id": "gsSuOIjg6AYz"
      },
      "execution_count": null,
      "outputs": []
    },
    {
      "cell_type": "code",
      "source": [
        "def update_probs(rho,theta,k,alpha):\n",
        "  grad_vector=np.empty(len(theta));\n",
        "  sum=np.sum(np.exp(theta));\n",
        "  sum2=np.sum(np.exp(rho));\n",
        "  for i in range(len(theta)):\n",
        "    if(i==k):\n",
        "      grad_vector[i] = (1-np.exp(grad_vector[i])/sum);\n",
        "    else:\n",
        "      grad_vector[i]= -np.exp(grad_vector[i])/sum;\n",
        "  #print(\"Grad vector:\",grad_vector)\n",
        "  #print(\"update value:\",np.exp(rho)/sum2*grad_vector)\n",
        "  #print(np.dot(rho,grad_vector)*np.exp(rho)/sum2)\n",
        "  theta=theta+alpha*np.dot(rho,grad_vector)*np.exp(rho)/sum2\n",
        "  #print(theta)\n",
        "  return theta;\n"
      ],
      "metadata": {
        "id": "XHKMi5G06TEB"
      },
      "execution_count": null,
      "outputs": []
    },
    {
      "cell_type": "code",
      "source": [
        "def pReinforce(P,nA,nS,R,k_pol,s_start,T,runs,tau,lr=0.01):\n",
        "  policy_played=np.zeros((runs,len(k_pol)));\n",
        "  rew = np.zeros(T);probs=None;\n",
        "  for run in range(runs):\n",
        "    #rho=np.ones(len(k_pol))/len(k_pol) #equal probabilities for all policies\n",
        "    rho=np.zeros(len(k_pol));\n",
        "    probs=np.array([0.11,0.1,0.03,0.08,0.1,0.58]);\n",
        "    #probs=softmax(rho);\n",
        "    t_dash = 0;\n",
        "    s=s_start;\n",
        "    reward=0;\n",
        "    r_dash=0;\n",
        "    k=np.random.choice(len(k_pol),p=probs);\n",
        "    rew_dash=np.zeros(len(k_pol))\n",
        "    time=np.zeros(len(k_pol))\n",
        "    policy_played[run][k]+=1;\n",
        "    for t in range(T):\n",
        "      if((t!=0 and s==s_start) or (t_dash>=tau)):\n",
        "        rew_dash[k]+=r_dash;\n",
        "        time[k]+=t_dash;\n",
        "        rho[k]=rew_dash[k]/time[k];\n",
        "        probs=update_probs(rho,probs,k,lr);\n",
        "        #print(t,\"====>\",probs)\n",
        "        k=np.random.choice(len(k_pol),p=softmax(probs))\n",
        "        policy_played[run][k]+=1;\n",
        "        r_dash = 0;\n",
        "        t_dash = 0;\n",
        "      #choose action\n",
        "      a=k_pol[k][s];\n",
        "      #print(a)\n",
        "      s_next=np.argmax(np.random.multinomial(1,P[a,s,:]))\n",
        "      #print(\"next state=\",s_next)\n",
        "      reward = R[a,s,s_next];\n",
        "      #print(reward)\n",
        "      s=s_next;\n",
        "      t_dash+=1;\n",
        "      rew[t]+=reward\n",
        "      r_dash = r_dash + reward;\n",
        "    rew=rew/runs;\n",
        "  return rew,policy_played,probs;"
      ],
      "metadata": {
        "id": "hFK6-UJfnA-F"
      },
      "execution_count": null,
      "outputs": []
    },
    {
      "cell_type": "code",
      "source": [
        "nS = 6;\n",
        "nA = 2;S=np.arange(nS);\n",
        "A = np.array([0,1])\n",
        "P=np.zeros((nA,nS,nS));\n",
        "R=np.zeros((nA,nS,nS));\n",
        "P,R,start = set_up_env_river_swim();\n",
        "\n",
        "runs=20\n",
        "tau_reinf =50\n",
        "T = 100000;\n",
        "beta = 1\n",
        "optimal = 0.662375\n",
        "lr=0.05\n",
        "'''K_pol=np.array([[0,0,0,0],\n",
        "                [0,0,0,1],\n",
        "                [0,0,1,1],\n",
        "                [0,1,1,1],\n",
        "                [1,1,1,1]])'''\n",
        "K_pol=np.array([[0,0,0,0,0,1],\n",
        "                [0,0,0,0,1,1],\n",
        "                [0,0,0,1,1,1],\n",
        "                [0,0,1,1,1,1],\n",
        "                [0,1,1,1,1,1],\n",
        "                [1,1,1,1,1,1]])\n",
        "'''action_prob=np.array([[0.8,0.2],\n",
        "                      [0.5,0.5],\n",
        "                      [0.5,0.5],\n",
        "                      [0.6,0.4],\n",
        "                      [0.4,0.6],\n",
        "                      [0.2,0.8]]);'''"
      ],
      "metadata": {
        "colab": {
          "base_uri": "https://localhost:8080/",
          "height": 504
        },
        "id": "vsxeaXMcmxx_",
        "outputId": "07076291-cfa8-41bf-8b9c-ea268129e519"
      },
      "execution_count": null,
      "outputs": [
        {
          "output_type": "stream",
          "name": "stdout",
          "text": [
            "[[[1.  0.  0.  0.  0.  0. ]\n",
            "  [1.  0.  0.  0.  0.  0. ]\n",
            "  [0.  1.  0.  0.  0.  0. ]\n",
            "  [0.  0.  1.  0.  0.  0. ]\n",
            "  [0.  0.  0.  1.  0.  0. ]\n",
            "  [0.  0.  0.  0.  1.  0. ]]\n",
            "\n",
            " [[0.3 0.7 0.  0.  0.  0. ]\n",
            "  [0.1 0.6 0.3 0.  0.  0. ]\n",
            "  [0.  0.1 0.6 0.3 0.  0. ]\n",
            "  [0.  0.  0.1 0.6 0.3 0. ]\n",
            "  [0.  0.  0.  0.1 0.6 0.3]\n",
            "  [0.  0.  0.  0.  0.1 0.9]]]\n",
            "[[[0.005 0.    0.    0.    0.    0.   ]\n",
            "  [0.    0.    0.    0.    0.    0.   ]\n",
            "  [0.    0.    0.    0.    0.    0.   ]\n",
            "  [0.    0.    0.    0.    0.    0.   ]\n",
            "  [0.    0.    0.    0.    0.    0.   ]\n",
            "  [0.    0.    0.    0.    0.    0.   ]]\n",
            "\n",
            " [[0.    0.    0.    0.    0.    0.   ]\n",
            "  [0.    0.    0.    0.    0.    0.   ]\n",
            "  [0.    0.    0.    0.    0.    0.   ]\n",
            "  [0.    0.    0.    0.    0.    0.   ]\n",
            "  [0.    0.    0.    0.    0.    0.   ]\n",
            "  [0.    0.    0.    0.    1.    1.   ]]]\n"
          ]
        },
        {
          "output_type": "execute_result",
          "data": {
            "text/plain": [
              "'action_prob=np.array([[0.8,0.2],\\n                      [0.5,0.5],\\n                      [0.5,0.5],\\n                      [0.6,0.4],\\n                      [0.4,0.6],\\n                      [0.2,0.8]]);'"
            ],
            "application/vnd.google.colaboratory.intrinsic+json": {
              "type": "string"
            }
          },
          "metadata": {},
          "execution_count": 23
        }
      ]
    },
    {
      "cell_type": "code",
      "source": [
        "rew,n,probs = pReinforce(P,nA,nS,R,K_pol,start,T,runs,tau_reinf,lr)#P,nA,nS,R,k_pol,s_start,T,runs,tau,action_prob,lr=0.01"
      ],
      "metadata": {
        "id": "OWmR3Xwp9iHG"
      },
      "execution_count": null,
      "outputs": []
    },
    {
      "cell_type": "code",
      "source": [
        "print(np.sum(rew))"
      ],
      "metadata": {
        "colab": {
          "base_uri": "https://localhost:8080/"
        },
        "id": "uOhF9QfJCgX9",
        "outputId": "b509f114-bca2-42fb-99b2-ddee990cd72c"
      },
      "execution_count": null,
      "outputs": [
        {
          "output_type": "stream",
          "name": "stdout",
          "text": [
            "61584.39\n"
          ]
        }
      ]
    },
    {
      "cell_type": "code",
      "source": [
        "print(n);"
      ],
      "metadata": {
        "colab": {
          "base_uri": "https://localhost:8080/"
        },
        "id": "JF01DpnFLhRY",
        "outputId": "19bb6c75-5eef-45f9-bd1b-56d7732fbac4"
      },
      "execution_count": null,
      "outputs": [
        {
          "output_type": "stream",
          "name": "stdout",
          "text": [
            "[[  388.   457.   499.   659.   850. 58872.]]\n"
          ]
        }
      ]
    },
    {
      "cell_type": "code",
      "source": [
        "print(probs);"
      ],
      "metadata": {
        "colab": {
          "base_uri": "https://localhost:8080/"
        },
        "id": "AIiR4EUR4e2Y",
        "outputId": "1d00ab75-753e-4fb7-ee87-14eda6f40a4c"
      },
      "execution_count": null,
      "outputs": [
        {
          "output_type": "stream",
          "name": "stdout",
          "text": [
            "[258.66395379 274.24051929 302.37734092 307.77647549 350.1722562\n",
            " 444.76657566]\n"
          ]
        }
      ]
    },
    {
      "cell_type": "code",
      "source": [
        "plt.plot(np.cumsum(rew))"
      ],
      "metadata": {
        "colab": {
          "base_uri": "https://localhost:8080/",
          "height": 282
        },
        "id": "lYdVDPzlIK7x",
        "outputId": "ecab35ee-b994-4e08-bec1-a14ff25a530a"
      },
      "execution_count": null,
      "outputs": [
        {
          "output_type": "execute_result",
          "data": {
            "text/plain": [
              "[<matplotlib.lines.Line2D at 0x7fc9af9a9f90>]"
            ]
          },
          "metadata": {},
          "execution_count": 28
        },
        {
          "output_type": "display_data",
          "data": {
            "text/plain": [
              "<Figure size 432x288 with 1 Axes>"
            ],
            "image/png": "[encoded data removed]"
          },
          "metadata": {
            "needs_background": "light"
          }
        }
      ]
    },
    {
      "cell_type": "code",
      "source": [
        "reg = optimal*np.arange(1,T+1)-np.cumsum(rew)\n",
        "plt.plot(reg)"
      ],
      "metadata": {
        "colab": {
          "base_uri": "https://localhost:8080/",
          "height": 282
        },
        "id": "Y4elBuvJIPf7",
        "outputId": "a754e8a9-7f87-489c-c174-b7ebf60d4f75"
      },
      "execution_count": null,
      "outputs": [
        {
          "output_type": "execute_result",
          "data": {
            "text/plain": [
              "[<matplotlib.lines.Line2D at 0x7fc9af396a10>]"
            ]
          },
          "metadata": {},
          "execution_count": 29
        },
        {
          "output_type": "display_data",
          "data": {
            "text/plain": [
              "<Figure size 432x288 with 1 Axes>"
            ],
            "image/png": "[encoded data removed]"
          },
          "metadata": {
            "needs_background": "light"
          }
        }
      ]
    },
    {
      "cell_type": "code",
      "source": [
        "def pThompson(S,A,P,R,s_start,tau,T,runs,K):\n",
        "  rew=np.zeros(T);\n",
        "  rho=np.zeros(len(K));\n",
        "  print(\"Computing pThompson Algorithm:\");\n",
        "  for run in tqdm(range(runs)):\n",
        "    S=np.ones(len(K));\n",
        "    F=np.ones(len(K));\n",
        "    s=s_start\n",
        "    r=0;\n",
        "    t_dash=0;\n",
        "    k=np.random.choice(len(K));\n",
        "    for t in range(T):\n",
        "      if((t!=0 and s==s_start)or(t_dash>=tau)):\n",
        "        S[k]=S[k]+r;\n",
        "        F[k]=F[k]+t_dash-r;\n",
        "        theta=[np.random.beta(S[j],F[j]) for j in range(len(K))]\n",
        "        k=np.argmax(theta);\n",
        "        t_dash=0;\n",
        "        r=0;\n",
        "      s_next=np.argmax(np.random.multinomial(1,P[K[k,s],s,:]));\n",
        "      reward=R[K[k,s],s,s_next];\n",
        "      r=r+reward\n",
        "      t_dash+=1;\n",
        "      s=s_next;\n",
        "      rew[t]=rew[t]+reward;\n",
        "    mean = np.array([S[j]/(S[j]+F[j]) for j in range(len(K))]);\n",
        "    print(mean);\n",
        "    rho=rho+mean;\n",
        "  rew=rew/runs;\n",
        "  rho=rho/runs;\n",
        "  return rew,rho;"
      ],
      "metadata": {
        "id": "i5a81-fXIgbr"
      },
      "execution_count": null,
      "outputs": []
    },
    {
      "cell_type": "code",
      "source": [
        "def pUCB(S,A,P,R,beta,tau,T,runs,K,s_start):\n",
        "    reg_arr = np.zeros(T);\n",
        "    rho = None;\n",
        "    rew=np.zeros(T);\n",
        "    mean = np.zeros(len(K))\n",
        "    #choice_pol=np.zeros(len(K))\n",
        "    print(\"Computing pUCB algorithm:\");\n",
        "    for run in tqdm(range(runs)):\n",
        "        s=s_start;\n",
        "        t_dash = 0;\n",
        "        r=0;\n",
        "        k=np.random.choice(len(K));\n",
        "        #print(k)\n",
        "        n = np.zeros(len(K));\n",
        "        Rk=np.zeros(len(K));\n",
        "        Tk=np.zeros(len(K));\n",
        "        rho=np.zeros(len(K));\n",
        "        c=np.zeros(len(K));\n",
        "        pol_played=1;\n",
        "        for t in range(T):\n",
        "            if((t!=0 and s==s_start) or t_dash>=tau):\n",
        "                    Rk[k]=Rk[k]+r;\n",
        "                    Tk[k]=Tk[k]+t_dash;\n",
        "                    rho[k]=Rk[k]/Tk[k];\n",
        "                    n[k]+=1;\n",
        "                    c[k]=beta*np.sqrt(2*np.log(np.sum(n))/n[k])\n",
        "                    if(pol_played<len(K)):\n",
        "                      k=(k+1)%len(K);\n",
        "                      pol_played+=1;\n",
        "                    else:\n",
        "                      k=np.argmax([rho[j]+c[j] for j in range(len(K))]);\n",
        "                    #print(k);\n",
        "                    t_dash = 0;\n",
        "                    r=0;\n",
        "            s_next=np.argmax(np.random.multinomial(1,P[K[k,s],s,:]))\n",
        "            #print(s_next)\n",
        "            reward=R[K[k,s],s,s_next];\n",
        "            rew[t]=rew[t]+reward\n",
        "            r=r+reward;\n",
        "            t_dash=t_dash+1;\n",
        "            s=s_next;\n",
        "        print(rho,n)\n",
        "        mean = mean + rho\n",
        "    rew=rew/runs;\n",
        "    mean=mean/runs\n",
        "    return rew,mean,n"
      ],
      "metadata": {
        "id": "c6iDg708Af2A"
      },
      "execution_count": null,
      "outputs": []
    },
    {
      "cell_type": "code",
      "source": [
        "rew_t,rho = pThompson(S,A,P,R,start,tau,T,runs,K_pol)#S,A,P,R,s_start,tau,T,runs,K\n",
        "rew_u,rho2,n = pUCB(S,A,P,R,beta,tau,T,runs,K_pol,start);#S,A,P,R,beta,tau,T,runs,K,s_start\n",
        "print(\"Printing means for pThompson:\",rho)\n",
        "print(\"Printing means for pUCB:\",rho2)\n",
        "reg_t = optimal*np.arange(1,T+1) - np.cumsum(rew_t);\n",
        "reg_u = optimal*np.arange(1,T+1) - np.cumsum(rew_u);"
      ],
      "metadata": {
        "colab": {
          "base_uri": "https://localhost:8080/"
        },
        "id": "t9yQWjqqAm3Y",
        "outputId": "258ce373-f94e-4b2e-c21d-25dac510331b"
      },
      "execution_count": null,
      "outputs": [
        {
          "output_type": "stream",
          "name": "stdout",
          "text": [
            "Computing pThompson Algorithm:\n"
          ]
        },
        {
          "output_type": "stream",
          "name": "stderr",
          "text": [
            "100%|██████████| 1/1 [00:03<00:00,  3.72s/it]\n"
          ]
        },
        {
          "output_type": "stream",
          "name": "stdout",
          "text": [
            "[0.06561033 0.07589286 0.12594002 0.08653846 0.07589286 0.66533551]\n",
            "Computing pUCB algorithm:\n"
          ]
        },
        {
          "output_type": "stream",
          "name": "stderr",
          "text": [
            "100%|██████████| 1/1 [00:04<00:00,  4.06s/it]"
          ]
        },
        {
          "output_type": "stream",
          "name": "stdout",
          "text": [
            "[0.0266347  0.02972623 0.05387748 0.44445364 0.03512397 0.65144703] [   89.    88.    98. 10638.    90. 44821.]\n",
            "Printing means for pThompson: [0.06561033 0.07589286 0.12594002 0.08653846 0.07589286 0.66533551]\n",
            "Printing means for pUCB: [0.0266347  0.02972623 0.05387748 0.44445364 0.03512397 0.65144703]\n"
          ]
        },
        {
          "output_type": "stream",
          "name": "stderr",
          "text": [
            "\n"
          ]
        }
      ]
    },
    {
      "cell_type": "code",
      "source": [
        "plt.plot(reg_t);\n",
        "plt.plot(reg_u);\n",
        "plt.plot(reg)\n",
        "plt.legend(['pThompson','pUCB','pReinforce'])\n",
        "plt.title('Regret plot comparison between pThompson,pUCB and pReinforce')"
      ],
      "metadata": {
        "colab": {
          "base_uri": "https://localhost:8080/",
          "height": 298
        },
        "id": "VIe7wQlCBlJ_",
        "outputId": "4f154b2d-d997-4d60-f945-2e7baa48ec77"
      },
      "execution_count": null,
      "outputs": [
        {
          "output_type": "execute_result",
          "data": {
            "text/plain": [
              "Text(0.5, 1.0, 'Regret plot comparison between pThompson,pUCB and pReinforce')"
            ]
          },
          "metadata": {},
          "execution_count": 41
        },
        {
          "output_type": "display_data",
          "data": {
            "text/plain": [
              "<Figure size 432x288 with 1 Axes>"
            ],
            "image/png": "[encoded data removed]"
          },
          "metadata": {
            "needs_background": "light"
          }
        }
      ]
    },
    {
      "cell_type": "code",
      "source": [
        "plt.plot(np.cumsum(rew_t));\n",
        "plt.plot(np.cumsum(rew_u));\n",
        "plt.plot(np.cumsum(ucrl_dat['average']));\n",
        "plt.plot(np.cumsum(psrl_dat['average']));\n",
        "plt.plot(np.cumsum(rew))\n",
        "plt.legend(['pThompson','pUCB','UCRL','PSRL','pReinforce without baseline'])"
      ],
      "metadata": {
        "id": "QPhFjLpfBKtY"
      },
      "execution_count": null,
      "outputs": []
    },
    {
      "cell_type": "code",
      "source": [
        ""
      ],
      "metadata": {
        "id": "9-Sj7WADBhDq"
      },
      "execution_count": null,
      "outputs": []
    }
  ]
}